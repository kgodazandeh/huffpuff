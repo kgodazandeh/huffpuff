{
 "cells": [
  {
   "cell_type": "code",
   "execution_count": 3,
   "metadata": {},
   "outputs": [
    {
     "name": "stdout",
     "output_type": "stream",
     "text": [
      "Requirement already satisfied: biopython in c:\\users\\kiyan\\anaconda3\\lib\\site-packages (1.79)\n",
      "Requirement already satisfied: numpy in c:\\users\\kiyan\\anaconda3\\lib\\site-packages (from biopython) (1.19.2)\n"
     ]
    }
   ],
   "source": [
    "import sys\n",
    "!{sys.executable} -m pip install biopython"
   ]
  },
  {
   "cell_type": "code",
   "execution_count": 4,
   "metadata": {},
   "outputs": [],
   "source": [
    "import pandas as pd\n",
    "import re\n",
    "from Bio import SeqIO\n",
    "import csv"
   ]
  },
  {
   "cell_type": "code",
   "execution_count": 8,
   "metadata": {},
   "outputs": [],
   "source": [
    "def get_fasta(fasta_file):\n",
    "    # convert FASTA to TSV \n",
    "    with open('fasta.tsv', 'w', newline='') as tsvfile:\n",
    "        writer = csv.writer(tsvfile, delimiter='\\t')\n",
    "        tsvfile.write(\"Sequence\\tFasta headers\\n\")\n",
    "        for record in SeqIO.parse(fasta_file, \"fasta\"):\n",
    "            writer.writerow([record.seq, record.id])\n",
    "\n",
    "    fasta_proteins = pd.read_table('fasta.tsv')\n",
    "\n",
    "    # extract protein IDs from FASTA headers, reorder columns\n",
    "    fasta_proteins['Protein'] = fasta_proteins['Fasta headers'].str.split('|').str[1]\n",
    "    fasta_proteins.drop(['Fasta headers'], axis=1)\n",
    "    reorder_col = ['Protein', 'Sequence']\n",
    "    fasta_proteins = fasta_proteins.reindex(columns=reorder_col)\n",
    "\n",
    "    fasta_proteins.to_csv(\"fasta_proteins.tsv\", sep='\\t', index=False)\n"
   ]
  },
  {
   "cell_type": "code",
   "execution_count": 9,
   "metadata": {},
   "outputs": [],
   "source": [
    "get_fasta(\"fastafasta.fasta\")"
   ]
  },
  {
   "cell_type": "code",
   "execution_count": null,
   "metadata": {},
   "outputs": [],
   "source": [
    "#*****\n",
    "#PLAN\n",
    "#*****\n",
    "#select the table \n",
    "#select the second column \n",
    "\n",
    "#delete all proteins with less than 100 AA\n",
    "\n",
    "#go through it using for loop\n",
    "#variable = EI make\n",
    "# count = 0\n",
    "\n",
    "#for each sequence slice 100 AA as a scanning loop\n",
    "\n",
    "#search for EI within 100 twice\n",
    "#if True count += 1\n",
    "#break so it doenst count more than once\n",
    "#if not in 100, shift:\n",
    "#another for loop to shift to the next \n",
    "#print count\n",
    "#the end\n",
    "\n",
    "\n"
   ]
  },
  {
   "cell_type": "code",
   "execution_count": 12,
   "metadata": {},
   "outputs": [],
   "source": [
    "def finding_EI(f):\n",
    "    fasta_proteins = pd.read_table(f)\n",
    "\n",
    "    col2 = fasta_proteins[fasta_proteins.columns[1]]\n",
    "    \n",
    "    #print(fasta_proteins)\n",
    "    seq = fasta_proteins[col2.apply(lambda x: True if len(x) > 100 else False)]\n",
    "    #print(seq)\n",
    "    \n",
    "    var = \"EI\"\n",
    "    count = 0\n",
    "    for it in seq.iterrows(): #iterrows itterates across the rows of the tables\n",
    "        #iterrows seperates rows into:\n",
    "        # index == o\n",
    "        # everything == 1\n",
    "        s=it[1][1] #everything else [1] and sequence [1] \n",
    "        #print(it[1][0])\n",
    "        for k in range(0, len(s)-100): #starts at 0 and goes to length -100\n",
    "            #print(k)\n",
    "            win=s[k:k+100] #window sliced \n",
    "            if win.count(var) >= 2: \n",
    "                #print(win)\n",
    "                count += 1\n",
    "                break\n",
    "    print(count)\n",
    "                \n",
    "                \n",
    "            \n",
    "\n",
    "            \n",
    "        \n",
    "    \n",
    "    "
   ]
  },
  {
   "cell_type": "code",
   "execution_count": 13,
   "metadata": {},
   "outputs": [
    {
     "name": "stdout",
     "output_type": "stream",
     "text": [
      "5069\n"
     ]
    }
   ],
   "source": [
    "finding_EI('fasta_proteins.tsv')\n"
   ]
  }
 ],
 "metadata": {
  "kernelspec": {
   "display_name": "Python 3",
   "language": "python",
   "name": "python3"
  }
 },
 "nbformat": 4,
 "nbformat_minor": 4
}
