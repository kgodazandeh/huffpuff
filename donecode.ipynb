{
 "cells": [
  {
   "cell_type": "code",
   "execution_count": 180,
   "metadata": {
    "scrolled": true
   },
   "outputs": [
    {
     "name": "stdout",
     "output_type": "stream",
     "text": [
      "801\n",
      "ACGTACGTACGTACGTACGACGACGTGCATCATATCGTCTGTGTACTATGATCGCAGCGCGTGTACTATGATACGCTCGTATCTATCATAGTGTACTCGACTATGATATCTATATATATGATGTGTAGTACAGACAGTCTCACGTGACATCAGTGCACGCGATATCGACATGACATGATCGCTAGTCGCTCGACATCGCAGCTGACAGTCGACAGACTATGATACGATATCGTACAGACATGTGCTGACATCACACGTCTCAGTGCTATGATACGATATCTACGTGAGTGCTAGAGCACAGTACGCTATGATCGCAGCGCGTGTACTATGATATATGTGTGCGATCGACATGCGTAGTCGATCGTATGTACTACGCTACGATGTACTATGATATCTATATATATGATCGCAGCGCGTGTACTATGATCGCATGTGTACAGACTAGTCTATGATACGAGTGCAGTGCTATGATGTGTAGTACAGACAGTCTCACGTGACATCAGTGCACGCGATATCGACATGACATGATCGCTAGTCGCTCGACATCGCAGCTGACAGTCGACAGACTATGATACGATATCGTACAGTGCTGACATCGTGTCACAGTACGATGTACTATGATGTGACGTATCGCAGCGAGATATGATACACTGTGACGTATCATCGTATCTACGCGACATCACAGACACACACATCACTAGAGTCATCGATGTGCTGTCTCAGACAGCGCTACGTGACAGACGCAGCGAGATACGATGTGACATCGTCGCATCGTCTGCGTCGTACGTACGTACGTACGTA\n",
      "ATGCATGCATGCATGCATGCTGCGTCTGCTACGCTGCTACAGTGTAGCATAGAGCGACGCAGACAGTGCATCGCGACAGACTCTGTCGTGTAGCTACTGAGATCACTACACACACAGACACTACAGCGCATCTATGCTACTATGCAGTGTCACATAGTATAGAGCGACGCTATGCAGTGTAGTATCATGTAGCATGACACTGTGCTACAGTCGTGACATGCTATAGCATAGTATCAGACAGCTGACAGTCGACGCTACAGCTCGCTGATCGCTAGTACAGTACAGCTATAGCGCACGTGACTACAGTGCACTCTGACAGACATGATGTGTAGTATCGTGACGTGAGCATAGTATCTGATCAGACATGTGTACGCTAGTATCATGTGCGCGACGCTAGTATATATATCTATAGTATCATGTAGCATCGCATCATGTATGCTAGCTGATGCGTACAGCTAGCGTGTGTATATAGTATCATGTGCGCGACGCTAGTATCGCATGACACGAGATCGTGAGTGCATCTATAGCATAGTATCGTGACTCTGCACACTACAGTCGTGTACAGACATGCTATAGCATAGTATCAGACAGCTGACAGTCGACGCTACAGCTCGCTGATCGCTAGTACAGTACAGCTATAGCGCACGTGACTACAGTGCACTCTGACAGACATGATGTGTAGTATATATATCTATAGTATCAGCTCATGTGATACTATCTATGCTCGCATAGTATCATGTGCGCGACGCTAGTATCATGTGTCTGCTATACTACGTGCAGCAGCATGCATGCATGCATGCA\n",
      "['A', 'T', 'G', 'C', 'A', 'T', 'G', 'C', 'A', 'T', 'G', 'C', 'A', 'T', 'G', 'C', 'A', 'T', 'G', 'C', 'T', 'G', 'C', 'G', 'T', 'C', 'T', 'G', 'C', 'T', 'A', 'C', 'G', 'C', 'T', 'G', 'C', 'T', 'A', 'C', 'A', 'G', 'T', 'G', 'T', 'A', 'G', 'C', 'A', 'T', 'A', 'G', 'A', 'G', 'C', 'G', 'A', 'C', 'G', 'C', 'A', 'G', 'A', 'C', 'A', 'G', 'T', 'G', 'C', 'A', 'T', 'C', 'G', 'C', 'G', 'A', 'C', 'A', 'G', 'A', 'C', 'T', 'C', 'T', 'G', 'T', 'C', 'G', 'T', 'G', 'T', 'A', 'G', 'C', 'T', 'A', 'C', 'T', 'G', 'A', 'G', 'A', 'T', 'C', 'A', 'C', 'T', 'A', 'C', 'A', 'C', 'A', 'C', 'A', 'C', 'A', 'G', 'A', 'C', 'A', 'C', 'T', 'A', 'C', 'A', 'G', 'C', 'G', 'C', 'A', 'T', 'C', 'T', 'A', 'T', 'G', 'C', 'T', 'A', 'C', 'T', 'A', 'T', 'G', 'C', 'A', 'G', 'T', 'G', 'T', 'C', 'A', 'C', 'A', 'T', 'A', 'G', 'T', 'A', 'T', 'A', 'G', 'A', 'G', 'C', 'G', 'A', 'C', 'G', 'C', 'T', 'A', 'T', 'G', 'C', 'A', 'G', 'T', 'G', 'T', 'A', 'G', 'T', 'A', 'T', 'C', 'A', 'T', 'G', 'T', 'A', 'G', 'C', 'A', 'T', 'G', 'A', 'C', 'A', 'C', 'T', 'G', 'T', 'G', 'C', 'T', 'A', 'C', 'A', 'G', 'T', 'C', 'G', 'T', 'G', 'A', 'C', 'A', 'T', 'G', 'C', 'T', 'A', 'T', 'A', 'G', 'C', 'A', 'T', 'A', 'G', 'T', 'A', 'T', 'C', 'A', 'G', 'A', 'C', 'A', 'G', 'C', 'T', 'G', 'A', 'C', 'A', 'G', 'T', 'C', 'G', 'A', 'C', 'G', 'C', 'T', 'A', 'C', 'A', 'G', 'C', 'T', 'C', 'G', 'C', 'T', 'G', 'A', 'T', 'C', 'G', 'C', 'T', 'A', 'G', 'T', 'A', 'C', 'A', 'G', 'T', 'A', 'C', 'A', 'G', 'C', 'T', 'A', 'T', 'A', 'G', 'C', 'G', 'C', 'A', 'C', 'G', 'T', 'G', 'A', 'C', 'T', 'A', 'C', 'A', 'G', 'T', 'G', 'C', 'A', 'C', 'T', 'C', 'T', 'G', 'A', 'C', 'A', 'G', 'A', 'C', 'A', 'T', 'G', 'A', 'T', 'G', 'T', 'G', 'T', 'A', 'G', 'T', 'A', 'T', 'C', 'G', 'T', 'G', 'A', 'C', 'G', 'T', 'G', 'A', 'G', 'C', 'A', 'T', 'A', 'G', 'T', 'A', 'T', 'C', 'T', 'G', 'A', 'T', 'C', 'A', 'G', 'A', 'C', 'A', 'T', 'G', 'T', 'G', 'T', 'A', 'C', 'G', 'C', 'T', 'A', 'G', 'T', 'A', 'T', 'C', 'A', 'T', 'G', 'T', 'G', 'C', 'G', 'C', 'G', 'A', 'C', 'G', 'C', 'T', 'A', 'G', 'T', 'A', 'T', 'A', 'T', 'A', 'T', 'A', 'T', 'C', 'T', 'A', 'T', 'A', 'G', 'T', 'A', 'T', 'C', 'A', 'T', 'G', 'T', 'A', 'G', 'C', 'A', 'T', 'C', 'G', 'C', 'A', 'T', 'C', 'A', 'T', 'G', 'T', 'A', 'T', 'G', 'C', 'T', 'A', 'G', 'C', 'T', 'G', 'A', 'T', 'G', 'C', 'G', 'T', 'A', 'C', 'A', 'G', 'C', 'T', 'A', 'G', 'C', 'G', 'T', 'G', 'T', 'G', 'T', 'A', 'T', 'A', 'T', 'A', 'G', 'T', 'A', 'T', 'C', 'A', 'T', 'G', 'T', 'G', 'C', 'G', 'C', 'G', 'A', 'C', 'G', 'C', 'T', 'A', 'G', 'T', 'A', 'T', 'C', 'G', 'C', 'A', 'T', 'G', 'A', 'C', 'A', 'C', 'G', 'A', 'G', 'A', 'T', 'C', 'G', 'T', 'G', 'A', 'G', 'T', 'G', 'C', 'A', 'T', 'C', 'T', 'A', 'T', 'A', 'G', 'C', 'A', 'T', 'A', 'G', 'T', 'A', 'T', 'C', 'G', 'T', 'G', 'A', 'C', 'T', 'C', 'T', 'G', 'C', 'A', 'C', 'A', 'C', 'T', 'A', 'C', 'A', 'G', 'T', 'C', 'G', 'T', 'G', 'T', 'A', 'C', 'A', 'G', 'A', 'C', 'A', 'T', 'G', 'C', 'T', 'A', 'T', 'A', 'G', 'C', 'A', 'T', 'A', 'G', 'T', 'A', 'T', 'C', 'A', 'G', 'A', 'C', 'A', 'G', 'C', 'T', 'G', 'A', 'C', 'A', 'G', 'T', 'C', 'G', 'A', 'C', 'G', 'C', 'T', 'A', 'C', 'A', 'G', 'C', 'T', 'C', 'G', 'C', 'T', 'G', 'A', 'T', 'C', 'G', 'C', 'T', 'A', 'G', 'T', 'A', 'C', 'A', 'G', 'T', 'A', 'C', 'A', 'G', 'C', 'T', 'A', 'T', 'A', 'G', 'C', 'G', 'C', 'A', 'C', 'G', 'T', 'G', 'A', 'C', 'T', 'A', 'C', 'A', 'G', 'T', 'G', 'C', 'A', 'C', 'T', 'C', 'T', 'G', 'A', 'C', 'A', 'G', 'A', 'C', 'A', 'T', 'G', 'A', 'T', 'G', 'T', 'G', 'T', 'A', 'G', 'T', 'A', 'T', 'A', 'T', 'A', 'T', 'A', 'T', 'C', 'T', 'A', 'T', 'A', 'G', 'T', 'A', 'T', 'C', 'A', 'G', 'C', 'T', 'C', 'A', 'T', 'G', 'T', 'G', 'A', 'T', 'A', 'C', 'T', 'A', 'T', 'C', 'T', 'A', 'T', 'G', 'C', 'T', 'C', 'G', 'C', 'A', 'T', 'A', 'G', 'T', 'A', 'T', 'C', 'A', 'T', 'G', 'T', 'G', 'C', 'G', 'C', 'G', 'A', 'C', 'G', 'C', 'T', 'A', 'G', 'T', 'A', 'T', 'C', 'A', 'T', 'G', 'T', 'G', 'T', 'C', 'T', 'G', 'C', 'T', 'A', 'T', 'A', 'C', 'T', 'A', 'C', 'G', 'T', 'G', 'C', 'A', 'G', 'C', 'A', 'G', 'C', 'A', 'T', 'G', 'C', 'A', 'T', 'G', 'C', 'A', 'T', 'G', 'C', 'A', 'T', 'G', 'C', 'A']\n",
      "[0, 0, 0, 0, 0, 0, 0, 0, 0, 0, 0, 0, 0, 0, 0, 0, 0, 0, 0, 1, 0, 0, 2, 2, 1, 1, 0, 0, 1, 2, 2, 2, 0, 1, 0, 0, 1, 2, 2, 0, 1, 2, 0, 2, 2, 1, 0, 0, 0, 2, 1, 1, 1, 0, 2, 1, 2, 2, 0, 0, 1, 1, 2, 0, 1, 2, 0, 0, 0, 0, 1, 2, 0, 2, 1, 2, 0, 1, 1, 2, 1, 1, 1, 0, 2, 1, 2, 2, 0, 2, 2, 1, 0, 1, 2, 2, 1, 0, 1, 1, 1, 0, 1, 0, 2, 1, 2, 2, 0, 2, 0, 2, 0, 2, 0, 1, 1, 2, 0, 2, 1, 2, 2, 0, 1, 0, 2, 0, 0, 0, 1, 1, 2, 0, 0, 0, 1, 2, 2, 1, 2, 0, 0, 0, 0, 1, 2, 0, 2, 1, 0, 2, 0, 0, 2, 1, 2, 2, 0, 2, 1, 1, 1, 0, 2, 1, 2, 2, 0, 1, 2, 0, 0, 0, 0, 1, 2, 0, 2, 2, 1, 2, 2, 0, 1, 0, 0, 0, 2, 2, 1, 0, 0, 0, 0, 1, 2, 0, 2, 1, 0, 2, 0, 0, 1, 2, 2, 0, 1, 2, 1, 2, 2, 0, 1, 2, 0, 0, 0, 0, 1, 2, 0, 2, 1, 0, 0, 0, 2, 1, 2, 2, 0, 1, 0, 1, 1, 2, 0, 1, 0, 1, 0, 1, 2, 0, 1, 2, 1, 2, 1, 2, 2, 0, 1, 2, 2, 0, 1, 0, 1, 1, 2, 0, 1, 0, 1, 0, 1, 2, 0, 1, 2, 1, 2, 2, 2, 0, 1, 2, 2, 2, 0, 1, 0, 1, 2, 0, 2, 1, 0, 2, 0, 0, 2, 2, 2, 0, 1, 2, 1, 2, 2, 0, 1, 2, 0, 0, 0, 2, 1, 1, 1, 0, 1, 2, 0, 1, 1, 2, 0, 0, 0, 1, 0, 0, 2, 0, 2, 2, 1, 2, 2, 0, 1, 2, 2, 0, 1, 2, 2, 2, 0, 1, 1, 0, 0, 0, 2, 1, 2, 2, 0, 1, 1, 0, 1, 0, 1, 0, 1, 1, 2, 0, 0, 0, 2, 0, 2, 2, 2, 2, 0, 1, 2, 1, 2, 2, 0, 1, 0, 0, 0, 2, 0, 0, 2, 0, 2, 1, 2, 2, 0, 1, 2, 1, 2, 2, 0, 2, 0, 2, 0, 2, 0, 1, 1, 2, 0, 2, 1, 2, 2, 0, 1, 0, 0, 0, 2, 2, 1, 0, 0, 0, 1, 2, 0, 0, 0, 1, 0, 0, 0, 2, 2, 0, 0, 0, 1, 2, 1, 0, 1, 0, 1, 0, 0, 0, 2, 2, 2, 2, 0, 1, 0, 1, 2, 1, 0, 2, 2, 0, 2, 0, 2, 2, 0, 2, 0, 2, 1, 2, 2, 0, 1, 0, 0, 0, 2, 0, 0, 2, 0, 2, 1, 2, 2, 0, 1, 2, 1, 2, 2, 0, 1, 2, 0, 0, 0, 0, 1, 2, 0, 2, 2, 1, 1, 1, 0, 1, 2, 2, 0, 1, 1, 2, 0, 0, 0, 0, 1, 1, 2, 0, 2, 1, 0, 0, 0, 2, 1, 2, 2, 0, 1, 2, 2, 0, 1, 2, 1, 1, 1, 0, 0, 0, 2, 0, 2, 1, 2, 2, 0, 1, 2, 1, 2, 2, 0, 2, 2, 2, 0, 1, 1, 2, 0, 0, 0, 0, 1, 2, 0, 2, 1, 0, 0, 0, 2, 1, 2, 2, 0, 1, 0, 1, 1, 2, 0, 1, 0, 1, 0, 1, 2, 0, 1, 2, 1, 2, 1, 2, 2, 0, 1, 2, 2, 0, 1, 0, 1, 1, 2, 0, 1, 0, 1, 0, 1, 2, 0, 1, 2, 1, 2, 2, 2, 0, 1, 2, 2, 2, 0, 1, 0, 1, 2, 0, 2, 1, 0, 2, 0, 0, 2, 2, 2, 0, 1, 2, 1, 2, 2, 0, 1, 2, 0, 0, 0, 2, 1, 1, 1, 0, 1, 2, 0, 1, 1, 2, 0, 0, 0, 1, 0, 0, 2, 0, 2, 2, 1, 2, 2, 0, 2, 0, 2, 0, 2, 0, 1, 1, 2, 0, 2, 1, 2, 2, 0, 1, 0, 1, 0, 1, 1, 0, 0, 0, 2, 0, 1, 0, 2, 2, 1, 2, 0, 1, 1, 2, 0, 0, 0, 1, 1, 2, 0, 0, 0, 2, 1, 2, 2, 0, 1, 0, 0, 0, 2, 0, 0, 2, 0, 2, 1, 2, 2, 0, 1, 2, 1, 2, 2, 0, 1, 0, 0, 0, 2, 0, 2, 1, 1, 0, 0, 1, 2, 0, 2, 2, 1, 2, 2, 2, 2, 0, 0, 0, 1, 0, 0, 1, 0, 0, 0, 0, 0, 0, 0, 0, 0, 0, 0, 0, 0, 0, 0, 0, 0, 0]\n",
      "00000000000000000010010002222122021001120200010221210221202002000102212000211000211021220102000110101022120211020202022122020010002110210111200021022121022200201202101022210222121021010102110102210221212102101010211010221200012021000021102220221210221202000111210221022120001202110000211022101112202100002102212102212020020001022120202202022012101022220001010121000220001000210001220001022120211020202022121022120200200010221210222202000211010101102212000110222102210221220200100021102101112000210221210222002012021010222102221210210101021101022102212121021010102110102212000120210000210221210221002012021000012200010221220210000210221201112022120020120210000212210002110002010221202110202020221201011101221012202212011121102120210000210211002212011120001220210221001022210011220010000000000000000000\n",
      "800\n"
     ]
    }
   ],
   "source": [
    "#add A to begining of sequence \n",
    "S5 = \"ACGTACGTACGTACGTACGACGACGTGCATCATATCGTCTGTGTACTATGATCGCAGCGCGTGTACTATGATACGCTCGTATCTATCATAGTGTACTCGACTATGATATCTATATATATGATGTGTAGTACAGACAGTCTCACGTGACATCAGTGCACGCGATATCGACATGACATGATCGCTAGTCGCTCGACATCGCAGCTGACAGTCGACAGACTATGATACGATATCGTACAGACATGTGCTGACATCACACGTCTCAGTGCTATGATACGATATCTACGTGAGTGCTAGAGCACAGTACGCTATGATCGCAGCGCGTGTACTATGATATATGTGTGCGATCGACATGCGTAGTCGATCGTATGTACTACGCTACGATGTACTATGATATCTATATATATGATCGCAGCGCGTGTACTATGATCGCATGTGTACAGACTAGTCTATGATACGAGTGCAGTGCTATGATGTGTAGTACAGACAGTCTCACGTGACATCAGTGCACGCGATATCGACATGACATGATCGCTAGTCGCTCGACATCGCAGCTGACAGTCGACAGACTATGATACGATATCGTACAGTGCTGACATCGTGTCACAGTACGATGTACTATGATGTGACGTATCGCAGCGAGATATGATACACTGTGACGTATCATCGTATCTACGCGACATCACAGACACACACATCACTAGAGTCATCGATGTGCTGTCTCAGACAGCGCTACGTGACAGACGCAGCGAGATACGATGTGACATCGTCGCATCGTCTGCGTCGTACGTACGTACGTACGTA\"\n",
    "print(len(S5))\n",
    "\n",
    "#reverse the sequence\n",
    "seq = S5[::-1]\n",
    "print(S5)\n",
    "print(seq)\n",
    "\n",
    "#make dic for corresponding letters\n",
    "dict_A = {\"T\": 0, \"G\": 1, \"C\": 2 }\n",
    "dict_T = {\"G\": 0, \"C\": 1, \"A\": 2 }\n",
    "dict_C = {\"A\": 0, \"T\": 1, \"G\": 2 }\n",
    "dict_G = {\"C\": 0, \"A\": 1, \"T\": 2 }\n",
    "\n",
    "dicts = {\"C\": dict_C, \"G\": dict_G, \"T\": dict_T, \"A\": dict_A}\n",
    "\n",
    "#make sequence into a list\n",
    "seq = list(seq)\n",
    "seqlist = list(seq)\n",
    "print(seqlist)\n",
    "\n",
    "#create empty list for numbs\n",
    "result_list = []\n",
    "\n",
    "#create for loop so that next in the seq\n",
    "for index, nucl in enumerate(seqlist):\n",
    "    if index < len(seqlist)-1:\n",
    "        next_nucl = seqlist[index+1]\n",
    "        dict_for_number = dicts[nucl]\n",
    "        next_number = dict_for_number[next_nucl]\n",
    "        result_list.append(next_number)\n",
    "\n",
    "print(result_list)\n",
    "\n",
    "#convert back into string\n",
    "list1 = ''.join(str(x) for x in result_list)\n",
    "#reverse back to og order\n",
    "list2 = list1[::-1]\n",
    "print(list2)\n",
    "print(len(list2))\n",
    "\n"
   ]
  },
  {
   "cell_type": "code",
   "execution_count": 189,
   "metadata": {},
   "outputs": [
    {
     "name": "stdout",
     "output_type": "stream",
     "text": [
      "0000000000000000001001000\n",
      "222212202100112020001022121022120200200010221200021100021102122010200011010102212021102020202212202001000211021011120002102212102220020120210102221022212102101010211010221022121210210101021101022120001202100002110222022121022120200011121022102212000120211000021102210111220210000210221210221202002000102212020220202201210102222000101012100022000100021000122000102212021102020202212102212020020001022121022220200021101010110221200011022210221022122020010002110210111200021022121022200201202101022210222121021010102110102210221212102101010211010221200012021000021022121022100201202100001220001022122021000021022120111202212002012021000021221000211000201022120211020202022120101110122101220221201112110212021000021021100221201112000122021022100102221001122001\n"
     ]
    }
   ],
   "source": [
    "#first 25 \n",
    "s = list2[:25]\n",
    "print(s)\n",
    "#000000000000000001001000\n",
    "#base 3 = 1001000\n",
    "#base 10 =  756\n",
    "#25+756 = 781\n",
    "\n",
    "#remove start 0's\n",
    "no0s = list2[25:]\n",
    "#len = 774\n",
    "\n",
    "#remove end 0's so that it is a multiple \n",
    "no0s2 = no0s[:-19]\n",
    "#print(len(no0s))\n",
    "#len = 756, matches base -3\n",
    "print(no0s2)\n",
    "\n"
   ]
  },
  {
   "cell_type": "code",
   "execution_count": 187,
   "metadata": {},
   "outputs": [
    {
     "data": {
      "text/plain": [
       "756"
      ]
     },
     "execution_count": 187,
     "metadata": {},
     "output_type": "execute_result"
    }
   ],
   "source": [
    "a = \"222212202100112020001022121022120200200010221200021100021102122010200011010102212021102020202212202001000211021011120002102212102220020120210102221022212102101010211010221022121210210101021101022120001202100002110222022121022120200011121022102212000120211000021102210111220210000210221210221202002000102212020220202201210102222000101012100022000100021000122000102212021102020202212102212020020001022121022220200021101010110221200011022210221022122020010002110210111200021022121022200201202101022210222121021010102110102210221212102101010211010221200012021000021022121022100201202100001220001022122021000021022120111202212002012021000021221000211000201022120211020202022120101110122101220221201112110212021000021021100221201112000122021022100102221001122001\"\n",
    "len(a)\n"
   ]
  },
  {
   "cell_type": "code",
   "execution_count": 196,
   "metadata": {},
   "outputs": [
    {
     "data": {
      "text/plain": [
       "756"
      ]
     },
     "execution_count": 196,
     "metadata": {},
     "output_type": "execute_result"
    }
   ],
   "source": [
    "num = \"222212202100112020001022121022120200200010221200021100021102122010200011010102212021102020202212202001000211021011120002102212102220020120210102221022212102101010211010221022121210210101021101022120001202100002110222022121022120200011121022102212000120211000021102210111220210000210221210221202002000102212020220202201210102222000101012100022000100021000122000102212021102020202212102212020020001022121022220200021101010110221200011022210221022122020010002110210111200021022121022200201202101022210222121021010102110102210221212102101010211010221200012021000021022121022100201202100001220001022122021000021022120111202212002012021000021221000211000201022120211020202022120101110122101220221201112110212021000021021100221201112000122021022100102221001122001\"\n",
    "num\n"
   ]
  }
 ],
 "metadata": {
  "kernelspec": {
   "display_name": "Python 3",
   "language": "python",
   "name": "python3"
  },
  "language_info": {
   "codemirror_mode": {
    "name": "ipython",
    "version": 3
   },
   "file_extension": ".py",
   "mimetype": "text/x-python",
   "name": "python",
   "nbconvert_exporter": "python",
   "pygments_lexer": "ipython3",
   "version": "3.8.5"
  }
 },
 "nbformat": 4,
 "nbformat_minor": 4
}
